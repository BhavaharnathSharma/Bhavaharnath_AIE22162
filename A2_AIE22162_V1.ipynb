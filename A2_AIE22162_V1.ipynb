{
 "cells": [
  {
   "cell_type": "markdown",
   "metadata": {},
   "source": [
    "# Write a function to calculate the Euclidean distance and Manhattan distance between two vectors. The vectors dimension is variable. Please don’t use any distance calculation functions available in Python."
   ]
  },
  {
   "cell_type": "code",
   "execution_count": 5,
   "metadata": {},
   "outputs": [
    {
     "name": "stdout",
     "output_type": "stream",
     "text": [
      "Enter coordinates for vector 1: \n",
      "Enter coordinates for vector 2: \n",
      "Euclidean distance: 4.47213595499958\n",
      "Manhattan distance: 6.0\n"
     ]
    }
   ],
   "source": [
    "def euclidean_distance(v1, v2):\n",
    "    if len(v1) != len(v2):\n",
    "        raise ValueError(\"Vectors SHould be of same dimension\")\n",
    "    return sum((x - y) ** 2 for x, y in zip(v1, v2)) ** 0.5\n",
    "\n",
    "def manhattan_distance(v1, v2):\n",
    "    if len(v1) != len(v2):\n",
    "        raise ValueError(\"Vectors SHould be of same dimension\")\n",
    "    return sum(abs(x - y) for x, y in zip(v1, v2))\n",
    "\n",
    "def get_vector_from_input():\n",
    "    vector_str = input(\"Enter the vector (separated by commas): \")\n",
    "    vector = [float(x.strip()) for x in vector_str.split(\",\")]\n",
    "    return vector\n",
    "\n",
    "print(\"Enter coordinates for vector 1: \")\n",
    "v1 = get_vector_from_input()\n",
    "print(\"Enter coordinates for vector 2: \")\n",
    "v2 = get_vector_from_input()\n",
    "\n",
    "euclidean = euclidean_distance(v1, v2)\n",
    "manhattan = manhattan_distance(v1, v2)\n",
    "\n",
    "print(f\"Euclidean distance: {euclidean}\")\n",
    "print(f\"Manhattan distance: {manhattan}\")\n"
   ]
  },
  {
   "cell_type": "markdown",
   "metadata": {},
   "source": [
    "# Write a function to implement k-NN classifier. k is a variable and based on that the count of neighbors should be selected.\n"
   ]
  },
  {
   "cell_type": "code",
   "execution_count": 3,
   "metadata": {},
   "outputs": [
    {
     "name": "stdout",
     "output_type": "stream",
     "text": [
      "Predicted class: large\n"
     ]
    }
   ],
   "source": [
    "import math\n",
    "from collections import Counter\n",
    "\n",
    "def euclidean_distance(v1, v2):\n",
    "    if len(v1) != len(v2):\n",
    "        return math.inf  # Return a very large value to indicate incomparability\n",
    "    sum_of_squares = 0\n",
    "    for i in range(len(v1)):\n",
    "        sum_of_squares += (v1[i] - v2[i]) ** 2\n",
    "    return math.sqrt(sum_of_squares)\n",
    "\n",
    "def get_neighbors(training_data, test_instance):\n",
    "    distances = []\n",
    "    for train_data in training_data:\n",
    "        distance = euclidean_distance(train_data[0], test_instance)\n",
    "        distances.append((distance, train_data[1]))\n",
    "    distances.sort(key=lambda x: (x[0], x[1]))  # Sort by distance and then by class label\n",
    "    return distances\n",
    "\n",
    "def Knn_classifier(training_data, test_instance, k_value):\n",
    "    neighbors = get_neighbors(training_data,test_instance)\n",
    "    neighbors.sort()\n",
    "    nearest_neighbors = neighbors[:k_value]\n",
    "    classes = [neighbor[1] for neighbor in nearest_neighbors]\n",
    "    class_counter = Counter(classes)\n",
    "    most_common_class = class_counter.most_common(1)[0][0]\n",
    "    return most_common_class\n",
    "\n",
    "# Modified values\n",
    "training_data = [([140, 60], 'medium'), ([145, 55], 'medium'), ([165, 70], 'large'), ([170, 65], 'large'), ([155, 72], 'large')]\n",
    "test_instance = [160, 58]\n",
    "k_value = 2\n",
    "\n",
    "# Output prediction\n",
    "result = Knn_classifier(training_data, test_instance, k_value)\n",
    "print(\"Predicted class:\", result)"
   ]
  },
  {
   "cell_type": "markdown",
   "metadata": {},
   "source": [
    "# Write a function to convert categorical variables to numeric using label encoding. Don’t use any existing functionalities."
   ]
  },
  {
   "cell_type": "code",
   "execution_count": 25,
   "metadata": {},
   "outputs": [
    {
     "name": "stdout",
     "output_type": "stream",
     "text": [
      "Original categorical data: ['India', 'Australia', 'England', 'India', 'England', 'Australia']\n",
      "Numeric data after label encoding: [0, 1, 2, 0, 2, 1]\n"
     ]
    }
   ],
   "source": [
    "def label_encode_categorical(data):\n",
    "    labels = {}\n",
    "    label_count = 0\n",
    "    encoded_data = []\n",
    "\n",
    "    for value in data:\n",
    "        if value not in labels:\n",
    "            labels[value] = label_count\n",
    "            label_count += 1\n",
    "        encoded_data.append(labels[value])\n",
    "\n",
    "    return encoded_data\n",
    "\n",
    "# Example\n",
    "categorical_data = ['India', 'Australia', 'England', 'India', 'England', 'Australia']\n",
    "numeric_data = label_encode_categorical(categorical_data)\n",
    "\n",
    "print(\"Original categorical data:\", categorical_data)\n",
    "print(\"Numeric data after label encoding:\", numeric_data)"
   ]
  },
  {
   "cell_type": "markdown",
   "metadata": {},
   "source": [
    "# Write a function to convert categorical variables to numeric using One-Hotencoding. Don’t use any existing functionalities"
   ]
  },
  {
   "cell_type": "code",
   "execution_count": 30,
   "metadata": {},
   "outputs": [
    {
     "name": "stdout",
     "output_type": "stream",
     "text": [
      "['IND', 'SL', 'WI', 'ENG']\n",
      "WI: [0, 0, 1, 0]\n",
      "IND: [1, 0, 0, 0]\n",
      "SL: [0, 1, 0, 0]\n",
      "WI: [0, 0, 1, 0]\n",
      "ENG: [0, 0, 0, 1]\n",
      "IND: [1, 0, 0, 0]\n"
     ]
    }
   ],
   "source": [
    "def one_hot_encoding(data):\n",
    "    unique_values = list(set(data))\n",
    "    encoded_data = []\n",
    "    print(unique_values)\n",
    "    \n",
    "    for value in data:\n",
    "        encoding = [0] * len(unique_values)\n",
    "        encoding[unique_values.index(value)] = 1\n",
    "        encoded_data.append(encoding)\n",
    "    \n",
    "    return encoded_data\n",
    "\n",
    "# Example\n",
    "categorical_data = ['WI', 'IND', 'SL', 'WI', 'ENG', 'IND']\n",
    "encoded_data = one_hot_encoding(categorical_data)\n",
    "    \n",
    "for i, encoded_value in enumerate(encoded_data):\n",
    "    print(f'{categorical_data[i]}: {encoded_value}')"
   ]
  }
 ],
 "metadata": {
  "kernelspec": {
   "display_name": "Python 3",
   "language": "python",
   "name": "python3"
  },
  "language_info": {
   "codemirror_mode": {
    "name": "ipython",
    "version": 3
   },
   "file_extension": ".py",
   "mimetype": "text/x-python",
   "name": "python",
   "nbconvert_exporter": "python",
   "pygments_lexer": "ipython3",
   "version": "3.12.0"
  }
 },
 "nbformat": 4,
 "nbformat_minor": 2
}
