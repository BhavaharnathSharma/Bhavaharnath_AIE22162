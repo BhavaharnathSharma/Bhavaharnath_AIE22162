{
 "cells": [
  {
   "cell_type": "markdown",
   "metadata": {},
   "source": [
    "# Write a program to count the numberof vowels and consonants present in an input string"
   ]
  },
  {
   "cell_type": "code",
   "execution_count": 17,
   "metadata": {},
   "outputs": [
    {
     "name": "stdout",
     "output_type": "stream",
     "text": [
      "The no of vowels in the given string are :  2\n",
      "The no of consonants in the given string are :   4\n"
     ]
    }
   ],
   "source": [
    "def finding_no_of_vowels_and_consonants(input_string):\n",
    "    vowels = \"aeiouAEIOU\"\n",
    "    count_of_vowels = 0\n",
    "    count_of_consonants = 0\n",
    "    for char in input_string:\n",
    "        if char in vowels:\n",
    "            count_of_vowels += 1\n",
    "        else:\n",
    "            count_of_consonants += 1\n",
    "    return count_of_vowels , count_of_consonants\n",
    "\n",
    "# Input from User\n",
    "input_string = input(\"Enter the string :\")\n",
    "# calling the function to find vowels and consonants\n",
    "count_of_vowels , count_of_consonants = finding_no_of_vowels_and_consonants(input_string)\n",
    "#displaying the results\n",
    "print(\"The no of vowels in the given string are : \" ,count_of_vowels )\n",
    "print(\"The no of consonants in the given string are : \" ,count_of_consonants )\n"
   ]
  },
  {
   "cell_type": "markdown",
   "metadata": {},
   "source": [
    "# Write a program that accepts two matrices A and Bas input and returns their product AB.Check if A & B aremultipliable; if not, return error message."
   ]
  },
  {
   "cell_type": "code",
   "execution_count": 24,
   "metadata": {},
   "outputs": [
    {
     "name": "stdout",
     "output_type": "stream",
     "text": [
      "\n",
      " Matrx prodect of XY is :\n",
      "[11, 18]\n",
      "[14, 24]\n"
     ]
    }
   ],
   "source": [
    "def matrix_multiplication(X, Y, Row_X, Col_X, Row_Y, Col_Y):\n",
    "    if Col_X != Row_Y:\n",
    "        print(\"Multiplication of the 2 matrices is not possible.\")\n",
    "        return None\n",
    "    else:\n",
    "        Z = [[0 for _ in range(Col_Y)] for _ in range(Row_X)]\n",
    "        for i in range(Row_X):\n",
    "            for j in range(Col_Y): \n",
    "                for k in range(Col_X):  # k for columns of matrix Y\n",
    "                    Z[i][j] += X[i][k] * Y[k][j]\n",
    "    return Z\n",
    "# Input for the matrix X\n",
    "Row_X = int(input(\"Enter the no of rows of X are :\"))\n",
    "Col_X = int(input(\"Enter the no of cols of X are :\"))\n",
    "X = [[int(input(f\"Enter the element of X{i}{j} :\")) for j in range(Col_X)] for i in range(Row_X)]\n",
    "# Input for the matrix Y\n",
    "Row_Y = int(input(\"Enter the no of rows of Y are :\"))\n",
    "Col_Y = int(input(\"Enter the no of cols of Y are :\"))\n",
    "Y = [[int(input(f\"Enter the element of Y{i}{j} :\")) for j in range(Col_Y)] for i in range(Row_Y)]\n",
    "\n",
    "# to perform the matrix multiplication\n",
    "resultant_matrix = matrix_multiplication(X , Y , Row_X, Col_X, Row_Y, Col_Y )\n",
    "\n",
    "#To display the result\n",
    "if resultant_matrix is not None :\n",
    "    print(\"\\n Matrx product of XY is :\")\n",
    "    for row in resultant_matrix :\n",
    "        print(row)"
   ]
  },
  {
   "cell_type": "markdown",
   "metadata": {},
   "source": [
    "# Write a program to find the number of common elements between two lists. The lists contain integers."
   ]
  },
  {
   "cell_type": "code",
   "execution_count": 25,
   "metadata": {},
   "outputs": [
    {
     "name": "stdout",
     "output_type": "stream",
     "text": [
      "Commonn elements betweenn the two lists : {2, 3}\n"
     ]
    }
   ],
   "source": [
    "def find_common_elements(list1 , list2) :\n",
    "    common_elements = set(list1) & set(list2)\n",
    "    return common_elements\n",
    "\n",
    "# Some Example lists\n",
    "\n",
    "list1 = [2,3,4,5,10]\n",
    "list2 = [3,2,12,3,23]\n",
    "\n",
    "common_elements = find_common_elements(list1 , list2)\n",
    "\n",
    "# To display the result\n",
    "print(\"Commonn elements betweenn the two lists :\" , common_elements)"
   ]
  },
  {
   "cell_type": "markdown",
   "metadata": {},
   "source": [
    "# Write a program that accepts a matrix as input and returns its transpose"
   ]
  },
  {
   "cell_type": "code",
   "execution_count": 34,
   "metadata": {},
   "outputs": [
    {
     "name": "stdout",
     "output_type": "stream",
     "text": [
      "original matrix is :\n",
      "[1, 4]\n",
      "[2, 3]\n",
      "\n",
      " Transposed matrix is :\n",
      "[1, 2]\n",
      "[4, 3]\n"
     ]
    }
   ],
   "source": [
    "def calculate_transpose_of_matrix(matrix):\n",
    "    result_matrix = [[0 for _ in range(len(matrix))] for _ in range(len(matrix[0]))]\n",
    "    for i in range(len(matrix)):\n",
    "        for j in range(len(matrix[0])):\n",
    "            result_matrix[j][i] = matrix[i][j]\n",
    "    return result_matrix\n",
    "\n",
    "#Some Example matrix\n",
    "Matrix = [[7,8],[9,10]]\n",
    "# Calculating the transpose of matrix using the function\n",
    "transposed_matrix = calculate_transpose_of_matrix(Matrix)\n",
    "# displaying the result\n",
    "print(\"original matrix is :\")\n",
    "for row in Matrix:\n",
    "    print(row)\n",
    "print(\"\\n Transposed matrix is :\")\n",
    "for row in transposed_matrix:\n",
    "    print(row)\n"
   ]
  },
  {
   "cell_type": "code",
   "execution_count": null,
   "metadata": {},
   "outputs": [],
   "source": []
  }
 ],
 "metadata": {
  "kernelspec": {
   "display_name": "Python 3",
   "language": "python",
   "name": "python3"
  },
  "language_info": {
   "codemirror_mode": {
    "name": "ipython",
    "version": 3
   },
   "file_extension": ".py",
   "mimetype": "text/x-python",
   "name": "python",
   "nbconvert_exporter": "python",
   "pygments_lexer": "ipython3",
   "version": "3.12.0"
  }
 },
 "nbformat": 4,
 "nbformat_minor": 2
}
